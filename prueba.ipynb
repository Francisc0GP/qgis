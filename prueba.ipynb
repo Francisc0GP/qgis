{
 "cells": [
  {
   "cell_type": "code",
   "execution_count": 1,
   "metadata": {},
   "outputs": [],
   "source": [
    "import geopandas as gpd\n",
    "from shapely import wkt\n",
    "import matplotlib.pyplot as plt\n",
    "import seaborn as sns"
   ]
  },
  {
   "cell_type": "markdown",
   "metadata": {},
   "source": [
    "##### *AreasVerdes*\n",
    "Leemos la informacion usando la libreria geopandas para poder obtener nuestro geodataframe\n",
    "Hacemos uso de head para poder ver la informacion que contiene nuestro archivo shape "
   ]
  },
  {
   "cell_type": "code",
   "execution_count": 2,
   "metadata": {},
   "outputs": [
    {
     "name": "stderr",
     "output_type": "stream",
     "text": [
      "c:\\Users\\lonje\\OneDrive\\Documentos\\GitHub\\qgis\\.venv\\Lib\\site-packages\\pyogrio\\raw.py:196: RuntimeWarning: inventario_areas_verdes_1\\inventario_areas_verdes_1.shp contains polygon(s) with rings with invalid winding order. Autocorrecting them, but that shapefile should be corrected using ogr2ogr for example.\n",
      "  return ogr_read(\n"
     ]
    },
    {
     "data": {
      "text/html": [
       "<div>\n",
       "<style scoped>\n",
       "    .dataframe tbody tr th:only-of-type {\n",
       "        vertical-align: middle;\n",
       "    }\n",
       "\n",
       "    .dataframe tbody tr th {\n",
       "        vertical-align: top;\n",
       "    }\n",
       "\n",
       "    .dataframe thead th {\n",
       "        text-align: right;\n",
       "    }\n",
       "</style>\n",
       "<table border=\"1\" class=\"dataframe\">\n",
       "  <thead>\n",
       "    <tr style=\"text-align: right;\">\n",
       "      <th></th>\n",
       "      <th>nombre</th>\n",
       "      <th>categoria_</th>\n",
       "      <th>subcat_sed</th>\n",
       "      <th>geometry</th>\n",
       "    </tr>\n",
       "  </thead>\n",
       "  <tbody>\n",
       "    <tr>\n",
       "      <th>0</th>\n",
       "      <td>0</td>\n",
       "      <td>Ãreas verdes complementarias o ligadas a la r...</td>\n",
       "      <td>Veg. ArbÃ³rea, arbustiva y herbÃ¡cea de glorietas</td>\n",
       "      <td>POLYGON ((486775.686 2132200.037, 486775.319 2...</td>\n",
       "    </tr>\n",
       "    <tr>\n",
       "      <th>1</th>\n",
       "      <td>0</td>\n",
       "      <td>Ãreas verdes urbanas fragmentadas</td>\n",
       "      <td>Terrenos baldÃ­os</td>\n",
       "      <td>POLYGON ((485986.153 2130716.415, 485997.265 2...</td>\n",
       "    </tr>\n",
       "    <tr>\n",
       "      <th>2</th>\n",
       "      <td>CAMELLON ANILLO PERIFERICO (Blvd. ADOLFO LOPEZ...</td>\n",
       "      <td>Ãreas verdes complementarias o ligadas a la r...</td>\n",
       "      <td>Veg. ArbÃ³rea, arbustiva y herbÃ¡cea de glorietas</td>\n",
       "      <td>POLYGON ((486890.803 2132129.64, 486889.143 21...</td>\n",
       "    </tr>\n",
       "    <tr>\n",
       "      <th>3</th>\n",
       "      <td>0</td>\n",
       "      <td>Equipamientos urbanos con vegetaciÃ³n</td>\n",
       "      <td>Instituciones acadÃ©micas pÃºblicas</td>\n",
       "      <td>POLYGON ((486023.561 2131882.086, 486012.485 2...</td>\n",
       "    </tr>\n",
       "    <tr>\n",
       "      <th>4</th>\n",
       "      <td>None</td>\n",
       "      <td>Ãreas verdes complementarias o ligadas a la r...</td>\n",
       "      <td>Camellones centrales y laterales</td>\n",
       "      <td>POLYGON ((486550.648 2131520.367, 486558.816 2...</td>\n",
       "    </tr>\n",
       "  </tbody>\n",
       "</table>\n",
       "</div>"
      ],
      "text/plain": [
       "                                              nombre  \\\n",
       "0                                                  0   \n",
       "1                                                  0   \n",
       "2  CAMELLON ANILLO PERIFERICO (Blvd. ADOLFO LOPEZ...   \n",
       "3                                                  0   \n",
       "4                                               None   \n",
       "\n",
       "                                          categoria_  \\\n",
       "0  Ãreas verdes complementarias o ligadas a la r...   \n",
       "1                 Ãreas verdes urbanas fragmentadas   \n",
       "2  Ãreas verdes complementarias o ligadas a la r...   \n",
       "3              Equipamientos urbanos con vegetaciÃ³n   \n",
       "4  Ãreas verdes complementarias o ligadas a la r...   \n",
       "\n",
       "                                          subcat_sed  \\\n",
       "0  Veg. ArbÃ³rea, arbustiva y herbÃ¡cea de glorietas   \n",
       "1                                  Terrenos baldÃ­os   \n",
       "2  Veg. ArbÃ³rea, arbustiva y herbÃ¡cea de glorietas   \n",
       "3                Instituciones acadÃ©micas pÃºblicas   \n",
       "4                   Camellones centrales y laterales   \n",
       "\n",
       "                                            geometry  \n",
       "0  POLYGON ((486775.686 2132200.037, 486775.319 2...  \n",
       "1  POLYGON ((485986.153 2130716.415, 485997.265 2...  \n",
       "2  POLYGON ((486890.803 2132129.64, 486889.143 21...  \n",
       "3  POLYGON ((486023.561 2131882.086, 486012.485 2...  \n",
       "4  POLYGON ((486550.648 2131520.367, 486558.816 2...  "
      ]
     },
     "execution_count": 2,
     "metadata": {},
     "output_type": "execute_result"
    }
   ],
   "source": [
    "areas_verdes_shp = gpd.read_file('inventario_areas_verdes_1\\inventario_areas_verdes_1.shp')#Se lee el archivo shapefile de las áreas verdes y se guarda en la variable areas_verdes_shp \n",
    "\n",
    "areas_verdes_shp.head()"
   ]
  },
  {
   "cell_type": "markdown",
   "metadata": {},
   "source": [
    "##### *AreasVerdes*\n",
    "Generamos los centros del poligono utilizando .geometry.centroid\n",
    "Generamos tambien la latitude y longitude con .geometry.x and .geometry.y\n",
    "*importante*: Eliminar la columna centroid ya que esta es de tipo geometria y el archivo shape solo soporta una columna tipo geometria\n",
    "Exportamos el archivo para comprobar nuestros resultados en Qgis."
   ]
  },
  {
   "cell_type": "code",
   "execution_count": 3,
   "metadata": {},
   "outputs": [
    {
     "data": {
      "text/html": [
       "<div>\n",
       "<style scoped>\n",
       "    .dataframe tbody tr th:only-of-type {\n",
       "        vertical-align: middle;\n",
       "    }\n",
       "\n",
       "    .dataframe tbody tr th {\n",
       "        vertical-align: top;\n",
       "    }\n",
       "\n",
       "    .dataframe thead th {\n",
       "        text-align: right;\n",
       "    }\n",
       "</style>\n",
       "<table border=\"1\" class=\"dataframe\">\n",
       "  <thead>\n",
       "    <tr style=\"text-align: right;\">\n",
       "      <th></th>\n",
       "      <th>nombre</th>\n",
       "      <th>categoria_</th>\n",
       "      <th>subcat_sed</th>\n",
       "      <th>geometry</th>\n",
       "      <th>latitude</th>\n",
       "      <th>longitude</th>\n",
       "    </tr>\n",
       "  </thead>\n",
       "  <tbody>\n",
       "    <tr>\n",
       "      <th>0</th>\n",
       "      <td>0</td>\n",
       "      <td>Ãreas verdes complementarias o ligadas a la r...</td>\n",
       "      <td>Veg. ArbÃ³rea, arbustiva y herbÃ¡cea de glorietas</td>\n",
       "      <td>POLYGON ((486775.686 2132200.037, 486775.319 2...</td>\n",
       "      <td>2.132193e+06</td>\n",
       "      <td>486822.954144</td>\n",
       "    </tr>\n",
       "    <tr>\n",
       "      <th>1</th>\n",
       "      <td>0</td>\n",
       "      <td>Ãreas verdes urbanas fragmentadas</td>\n",
       "      <td>Terrenos baldÃ­os</td>\n",
       "      <td>POLYGON ((485986.153 2130716.415, 485997.265 2...</td>\n",
       "      <td>2.130754e+06</td>\n",
       "      <td>486115.074734</td>\n",
       "    </tr>\n",
       "    <tr>\n",
       "      <th>2</th>\n",
       "      <td>CAMELLON ANILLO PERIFERICO (Blvd. ADOLFO LOPEZ...</td>\n",
       "      <td>Ãreas verdes complementarias o ligadas a la r...</td>\n",
       "      <td>Veg. ArbÃ³rea, arbustiva y herbÃ¡cea de glorietas</td>\n",
       "      <td>POLYGON ((486890.803 2132129.64, 486889.143 21...</td>\n",
       "      <td>2.132507e+06</td>\n",
       "      <td>487333.329578</td>\n",
       "    </tr>\n",
       "    <tr>\n",
       "      <th>3</th>\n",
       "      <td>0</td>\n",
       "      <td>Equipamientos urbanos con vegetaciÃ³n</td>\n",
       "      <td>Instituciones acadÃ©micas pÃºblicas</td>\n",
       "      <td>POLYGON ((486023.561 2131882.086, 486012.485 2...</td>\n",
       "      <td>2.131919e+06</td>\n",
       "      <td>485957.173291</td>\n",
       "    </tr>\n",
       "    <tr>\n",
       "      <th>4</th>\n",
       "      <td>None</td>\n",
       "      <td>Ãreas verdes complementarias o ligadas a la r...</td>\n",
       "      <td>Camellones centrales y laterales</td>\n",
       "      <td>POLYGON ((486550.648 2131520.367, 486558.816 2...</td>\n",
       "      <td>2.131658e+06</td>\n",
       "      <td>486645.779704</td>\n",
       "    </tr>\n",
       "  </tbody>\n",
       "</table>\n",
       "</div>"
      ],
      "text/plain": [
       "                                              nombre  \\\n",
       "0                                                  0   \n",
       "1                                                  0   \n",
       "2  CAMELLON ANILLO PERIFERICO (Blvd. ADOLFO LOPEZ...   \n",
       "3                                                  0   \n",
       "4                                               None   \n",
       "\n",
       "                                          categoria_  \\\n",
       "0  Ãreas verdes complementarias o ligadas a la r...   \n",
       "1                 Ãreas verdes urbanas fragmentadas   \n",
       "2  Ãreas verdes complementarias o ligadas a la r...   \n",
       "3              Equipamientos urbanos con vegetaciÃ³n   \n",
       "4  Ãreas verdes complementarias o ligadas a la r...   \n",
       "\n",
       "                                          subcat_sed  \\\n",
       "0  Veg. ArbÃ³rea, arbustiva y herbÃ¡cea de glorietas   \n",
       "1                                  Terrenos baldÃ­os   \n",
       "2  Veg. ArbÃ³rea, arbustiva y herbÃ¡cea de glorietas   \n",
       "3                Instituciones acadÃ©micas pÃºblicas   \n",
       "4                   Camellones centrales y laterales   \n",
       "\n",
       "                                            geometry      latitude  \\\n",
       "0  POLYGON ((486775.686 2132200.037, 486775.319 2...  2.132193e+06   \n",
       "1  POLYGON ((485986.153 2130716.415, 485997.265 2...  2.130754e+06   \n",
       "2  POLYGON ((486890.803 2132129.64, 486889.143 21...  2.132507e+06   \n",
       "3  POLYGON ((486023.561 2131882.086, 486012.485 2...  2.131919e+06   \n",
       "4  POLYGON ((486550.648 2131520.367, 486558.816 2...  2.131658e+06   \n",
       "\n",
       "       longitude  \n",
       "0  486822.954144  \n",
       "1  486115.074734  \n",
       "2  487333.329578  \n",
       "3  485957.173291  \n",
       "4  486645.779704  "
      ]
     },
     "execution_count": 3,
     "metadata": {},
     "output_type": "execute_result"
    }
   ],
   "source": [
    "areas_verdes_shp['centroid'] = areas_verdes_shp.geometry.centroid#Se generan los centros de los polígonos\n",
    "areas_verdes_shp['latitude'] = areas_verdes_shp.centroid.y#Se obtienen las coordenadas de los centros de los polígonos\n",
    "areas_verdes_shp['longitude'] = areas_verdes_shp.centroid.x#Se obtienen las coordenadas de los centros de los polígonos\n",
    "areas_verdes_shp.drop(columns=['centroid'], inplace=True)#Dropeamos la columna centroid porque al exportar el archivo tenemos problemas porque solo soporta un tipo de geometría\n",
    " \n",
    "areas_verdes_shp.to_file('Nuevo_inventario_Areas_Verdes/areas_verdes_con_coordenadas.shp')\n",
    "areas_verdes_shp.head()"
   ]
  },
  {
   "cell_type": "markdown",
   "metadata": {},
   "source": [
    "##### *CodigoPostal*\n",
    "Leemos la informacion usando la libreria geopandas para poder obtener nuestro geodataframe\n",
    "Hacemos uso de head para poder ver la informacion que contiene nuestro archivo shape "
   ]
  },
  {
   "cell_type": "code",
   "execution_count": 4,
   "metadata": {},
   "outputs": [
    {
     "data": {
      "text/html": [
       "<div>\n",
       "<style scoped>\n",
       "    .dataframe tbody tr th:only-of-type {\n",
       "        vertical-align: middle;\n",
       "    }\n",
       "\n",
       "    .dataframe tbody tr th {\n",
       "        vertical-align: top;\n",
       "    }\n",
       "\n",
       "    .dataframe thead th {\n",
       "        text-align: right;\n",
       "    }\n",
       "</style>\n",
       "<table border=\"1\" class=\"dataframe\">\n",
       "  <thead>\n",
       "    <tr style=\"text-align: right;\">\n",
       "      <th></th>\n",
       "      <th>d_cp</th>\n",
       "      <th>geometry</th>\n",
       "    </tr>\n",
       "  </thead>\n",
       "  <tbody>\n",
       "    <tr>\n",
       "      <th>0</th>\n",
       "      <td>01000</td>\n",
       "      <td>POLYGON ((2794490.202 819013.932, 2794461.883 ...</td>\n",
       "    </tr>\n",
       "    <tr>\n",
       "      <th>1</th>\n",
       "      <td>01010</td>\n",
       "      <td>POLYGON ((2794251.904 821310.768, 2794314.2 82...</td>\n",
       "    </tr>\n",
       "    <tr>\n",
       "      <th>2</th>\n",
       "      <td>01020</td>\n",
       "      <td>POLYGON ((2794764.266 819868.131, 2794458.907 ...</td>\n",
       "    </tr>\n",
       "    <tr>\n",
       "      <th>3</th>\n",
       "      <td>01030</td>\n",
       "      <td>POLYGON ((2794766.312 819885.197, 2794779.983 ...</td>\n",
       "    </tr>\n",
       "    <tr>\n",
       "      <th>4</th>\n",
       "      <td>01049</td>\n",
       "      <td>POLYGON ((2794004.954 819981.598, 2793997.487 ...</td>\n",
       "    </tr>\n",
       "  </tbody>\n",
       "</table>\n",
       "</div>"
      ],
      "text/plain": [
       "    d_cp                                           geometry\n",
       "0  01000  POLYGON ((2794490.202 819013.932, 2794461.883 ...\n",
       "1  01010  POLYGON ((2794251.904 821310.768, 2794314.2 82...\n",
       "2  01020  POLYGON ((2794764.266 819868.131, 2794458.907 ...\n",
       "3  01030  POLYGON ((2794766.312 819885.197, 2794779.983 ...\n",
       "4  01049  POLYGON ((2794004.954 819981.598, 2793997.487 ..."
      ]
     },
     "execution_count": 4,
     "metadata": {},
     "output_type": "execute_result"
    }
   ],
   "source": [
    "codigos_postales_shp = gpd.read_file('cp_cdmx\\CP_09CDMX_v7.shp')#Leemos el archivo shapefile de codigos postales en cdmx y lo guardamos en la variable codigos_postales\n",
    "\n",
    "codigos_postales_shp.head()"
   ]
  },
  {
   "cell_type": "markdown",
   "metadata": {},
   "source": [
    "##### *CodigoPostal*\n",
    "Generamos los centros del poligono utilizando .geometry.centroid\n",
    "Generamos tambien la latitude y longitude con .geometry.x and .geometry.y\n",
    "*importante*: Eliminar la columna centroid ya que esta es de tipo geometria y el archivo shape solo soporta una columna tipo geometria\n",
    "Exportamos el archivo para comprobar nuestros resultados en Qgis.\n",
    "##### *Nuevogeo*\n",
    "Creamos un geodf llamado \"codigos_postales_shp\", la idea es tener un mismo formato. \n",
    "Modificamos el \"crs\" a epsg 32614, posterior proyectamos \n",
    "```\n",
    "codigos_postales_shp = codigos_postales_shp.to_crs(epsg=32614)\n",
    "areas_verdes_shp = areas_verdes_shp.to_crs(epsg=32614)\n",
    "```"
   ]
  },
  {
   "cell_type": "code",
   "execution_count": 5,
   "metadata": {},
   "outputs": [
    {
     "data": {
      "text/html": [
       "<div>\n",
       "<style scoped>\n",
       "    .dataframe tbody tr th:only-of-type {\n",
       "        vertical-align: middle;\n",
       "    }\n",
       "\n",
       "    .dataframe tbody tr th {\n",
       "        vertical-align: top;\n",
       "    }\n",
       "\n",
       "    .dataframe thead th {\n",
       "        text-align: right;\n",
       "    }\n",
       "</style>\n",
       "<table border=\"1\" class=\"dataframe\">\n",
       "  <thead>\n",
       "    <tr style=\"text-align: right;\">\n",
       "      <th></th>\n",
       "      <th>d_cp</th>\n",
       "      <th>geometry</th>\n",
       "      <th>latitude</th>\n",
       "      <th>longitude</th>\n",
       "    </tr>\n",
       "  </thead>\n",
       "  <tbody>\n",
       "    <tr>\n",
       "      <th>0</th>\n",
       "      <td>01000</td>\n",
       "      <td>POLYGON ((480122.707 2138751.804, 480094.161 2...</td>\n",
       "      <td>819384.272240</td>\n",
       "      <td>2.794072e+06</td>\n",
       "    </tr>\n",
       "    <tr>\n",
       "      <th>1</th>\n",
       "      <td>01010</td>\n",
       "      <td>POLYGON ((479931.517 2141058.68, 479993.588 21...</td>\n",
       "      <td>820972.566305</td>\n",
       "      <td>2.793947e+06</td>\n",
       "    </tr>\n",
       "    <tr>\n",
       "      <th>2</th>\n",
       "      <td>01020</td>\n",
       "      <td>POLYGON ((480415.094 2139602.207, 480109.515 2...</td>\n",
       "      <td>820580.769773</td>\n",
       "      <td>2.794675e+06</td>\n",
       "    </tr>\n",
       "    <tr>\n",
       "      <th>3</th>\n",
       "      <td>01030</td>\n",
       "      <td>POLYGON ((480417.499 2139619.268, 480432.212 2...</td>\n",
       "      <td>820661.849332</td>\n",
       "      <td>2.795511e+06</td>\n",
       "    </tr>\n",
       "    <tr>\n",
       "      <th>4</th>\n",
       "      <td>01049</td>\n",
       "      <td>POLYGON ((479656.453 2139731.674, 479648.273 2...</td>\n",
       "      <td>820210.806730</td>\n",
       "      <td>2.793692e+06</td>\n",
       "    </tr>\n",
       "  </tbody>\n",
       "</table>\n",
       "</div>"
      ],
      "text/plain": [
       "    d_cp                                           geometry       latitude  \\\n",
       "0  01000  POLYGON ((480122.707 2138751.804, 480094.161 2...  819384.272240   \n",
       "1  01010  POLYGON ((479931.517 2141058.68, 479993.588 21...  820972.566305   \n",
       "2  01020  POLYGON ((480415.094 2139602.207, 480109.515 2...  820580.769773   \n",
       "3  01030  POLYGON ((480417.499 2139619.268, 480432.212 2...  820661.849332   \n",
       "4  01049  POLYGON ((479656.453 2139731.674, 479648.273 2...  820210.806730   \n",
       "\n",
       "      longitude  \n",
       "0  2.794072e+06  \n",
       "1  2.793947e+06  \n",
       "2  2.794675e+06  \n",
       "3  2.795511e+06  \n",
       "4  2.793692e+06  "
      ]
     },
     "execution_count": 5,
     "metadata": {},
     "output_type": "execute_result"
    }
   ],
   "source": [
    "codigos_postales_shp['centroid'] = codigos_postales_shp.geometry.centroid#Se generan los centros de los polígonos\n",
    "codigos_postales_shp['latitude'] = codigos_postales_shp.centroid.y#Se obtienen las coordenadas de los centros de los polígonos\n",
    "codigos_postales_shp['longitude'] = codigos_postales_shp.centroid.x#Se obtienen las coordenadas de los centros de los polígonos\n",
    "codigos_postales_shp.drop(columns=['centroid'], inplace=True)#Dropeamos la columna centroid porque al exportar el archivo tenemos problemas porque solo soporta un tipo de geometría\n",
    "#Obtenemos un mismo formato para ambos archivos shapefile\n",
    "codigos_postales_shp = codigos_postales_shp.set_crs('PROJCS[\"Lambert_Conformal_Conic\",GEOGCS[\"WGS 84\",DATUM[\"unknown\",SPHEROID[\"WGS84\",6378137,298.257223563]],PRIMEM[\"Greenwich\",0],UNIT[\"Degree\",0.0174532925199433]],PROJECTION[\"Lambert_Conformal_Conic_2SP\"],PARAMETER[\"latitude_of_origin\",12],PARAMETER[\"central_meridian\",-102],PARAMETER[\"standard_parallel_1\",17.5],PARAMETER[\"standard_parallel_2\",29.5],PARAMETER[\"false_easting\",2500000],PARAMETER[\"false_northing\",0],UNIT[\"metre\",1,AUTHORITY[\"EPSG\",\"9001\"]],AXIS[\"Easting\",EAST],AXIS[\"Northing\",NORTH]]')\n",
    "codigos_postales_shp = codigos_postales_shp.to_crs(epsg=32614)\n",
    "codigos_postales_shp.to_file('Nuevo_cp_cdmx/codigos_postales_con_coordenadas.shp')\n",
    "codigos_postales_shp.head()\n"
   ]
  },
  {
   "cell_type": "code",
   "execution_count": 6,
   "metadata": {},
   "outputs": [],
   "source": [
    "areas_verdes_shp = areas_verdes_shp.to_crs(epsg=32614)# mismo CRS\n",
    "codigos_postales_shp = codigos_postales_shp.to_crs(epsg=32614)# mismo CRS"
   ]
  },
  {
   "cell_type": "code",
   "execution_count": 7,
   "metadata": {},
   "outputs": [],
   "source": [
    "# Proyectar ambos GeoDataFrames a EPSG:32614 (UTM zona 14N)\n",
    "#codigos_postales_shp = codigos_postales_shp.to_crs(epsg=32614)\n",
    "#areas_verdes_shp = areas_verdes_shp.to_crs(epsg=32614)\n"
   ]
  },
  {
   "cell_type": "markdown",
   "metadata": {},
   "source": [
    "##### *Limpieza*\n",
    "Usamos .buffer(0) para arreglar los poligonos que se autointersectan de los dos geodataframes\n",
    "Hacemos la interseccion entre los codigos postales y las areas verdes creando un nuevo geodaframe llamado intersection_shp"
   ]
  },
  {
   "cell_type": "code",
   "execution_count": 8,
   "metadata": {},
   "outputs": [
    {
     "data": {
      "text/html": [
       "<div>\n",
       "<style scoped>\n",
       "    .dataframe tbody tr th:only-of-type {\n",
       "        vertical-align: middle;\n",
       "    }\n",
       "\n",
       "    .dataframe tbody tr th {\n",
       "        vertical-align: top;\n",
       "    }\n",
       "\n",
       "    .dataframe thead th {\n",
       "        text-align: right;\n",
       "    }\n",
       "</style>\n",
       "<table border=\"1\" class=\"dataframe\">\n",
       "  <thead>\n",
       "    <tr style=\"text-align: right;\">\n",
       "      <th></th>\n",
       "      <th>d_cp</th>\n",
       "      <th>latitude_1</th>\n",
       "      <th>longitude_1</th>\n",
       "      <th>nombre</th>\n",
       "      <th>categoria_</th>\n",
       "      <th>subcat_sed</th>\n",
       "      <th>latitude_2</th>\n",
       "      <th>longitude_2</th>\n",
       "      <th>geometry</th>\n",
       "    </tr>\n",
       "  </thead>\n",
       "  <tbody>\n",
       "    <tr>\n",
       "      <th>0</th>\n",
       "      <td>01000</td>\n",
       "      <td>819384.27224</td>\n",
       "      <td>2.794072e+06</td>\n",
       "      <td>JARDIN DEL ARTE</td>\n",
       "      <td>Plazas y jardines</td>\n",
       "      <td>Jardines pÃºblicos</td>\n",
       "      <td>2.138688e+06</td>\n",
       "      <td>479763.466354</td>\n",
       "      <td>POLYGON ((479833.468 2138683.592, 479830.798 2...</td>\n",
       "    </tr>\n",
       "    <tr>\n",
       "      <th>1</th>\n",
       "      <td>01000</td>\n",
       "      <td>819384.27224</td>\n",
       "      <td>2.794072e+06</td>\n",
       "      <td>TRIANGULO DE FRONTERA</td>\n",
       "      <td>Ãreas verdes complementarias o ligadas a la r...</td>\n",
       "      <td>Camellones centrales y laterales</td>\n",
       "      <td>2.138676e+06</td>\n",
       "      <td>479568.477433</td>\n",
       "      <td>POLYGON ((479577.375 2138687.659, 479585.002 2...</td>\n",
       "    </tr>\n",
       "    <tr>\n",
       "      <th>2</th>\n",
       "      <td>01000</td>\n",
       "      <td>819384.27224</td>\n",
       "      <td>2.794072e+06</td>\n",
       "      <td>JARDIN DEL CARMEN</td>\n",
       "      <td>Plazas y jardines</td>\n",
       "      <td>Plazas</td>\n",
       "      <td>2.139103e+06</td>\n",
       "      <td>479982.823879</td>\n",
       "      <td>POLYGON ((479954.648 2139111.853, 479965.226 2...</td>\n",
       "    </tr>\n",
       "    <tr>\n",
       "      <th>3</th>\n",
       "      <td>01000</td>\n",
       "      <td>819384.27224</td>\n",
       "      <td>2.794072e+06</td>\n",
       "      <td>TRIANGULO DE AV. REVOLUCION Y AV. DE LA PAZ</td>\n",
       "      <td>Plazas y jardines</td>\n",
       "      <td>Jardines pÃºblicos</td>\n",
       "      <td>2.139142e+06</td>\n",
       "      <td>480061.679954</td>\n",
       "      <td>POLYGON ((480073.533 2139159.946, 480070.634 2...</td>\n",
       "    </tr>\n",
       "    <tr>\n",
       "      <th>4</th>\n",
       "      <td>01000</td>\n",
       "      <td>819384.27224</td>\n",
       "      <td>2.794072e+06</td>\n",
       "      <td>TRIANGULO DR. GALVEZ</td>\n",
       "      <td>Ãreas verdes complementarias o ligadas a la r...</td>\n",
       "      <td>Camellones centrales y laterales</td>\n",
       "      <td>2.138835e+06</td>\n",
       "      <td>480115.672057</td>\n",
       "      <td>POLYGON ((480115.557 2138815.362, 480111.072 2...</td>\n",
       "    </tr>\n",
       "  </tbody>\n",
       "</table>\n",
       "</div>"
      ],
      "text/plain": [
       "    d_cp    latitude_1   longitude_1  \\\n",
       "0  01000  819384.27224  2.794072e+06   \n",
       "1  01000  819384.27224  2.794072e+06   \n",
       "2  01000  819384.27224  2.794072e+06   \n",
       "3  01000  819384.27224  2.794072e+06   \n",
       "4  01000  819384.27224  2.794072e+06   \n",
       "\n",
       "                                        nombre  \\\n",
       "0                              JARDIN DEL ARTE   \n",
       "1                        TRIANGULO DE FRONTERA   \n",
       "2                            JARDIN DEL CARMEN   \n",
       "3  TRIANGULO DE AV. REVOLUCION Y AV. DE LA PAZ   \n",
       "4                         TRIANGULO DR. GALVEZ   \n",
       "\n",
       "                                          categoria_  \\\n",
       "0                                  Plazas y jardines   \n",
       "1  Ãreas verdes complementarias o ligadas a la r...   \n",
       "2                                  Plazas y jardines   \n",
       "3                                  Plazas y jardines   \n",
       "4  Ãreas verdes complementarias o ligadas a la r...   \n",
       "\n",
       "                         subcat_sed    latitude_2    longitude_2  \\\n",
       "0                Jardines pÃºblicos  2.138688e+06  479763.466354   \n",
       "1  Camellones centrales y laterales  2.138676e+06  479568.477433   \n",
       "2                            Plazas  2.139103e+06  479982.823879   \n",
       "3                Jardines pÃºblicos  2.139142e+06  480061.679954   \n",
       "4  Camellones centrales y laterales  2.138835e+06  480115.672057   \n",
       "\n",
       "                                            geometry  \n",
       "0  POLYGON ((479833.468 2138683.592, 479830.798 2...  \n",
       "1  POLYGON ((479577.375 2138687.659, 479585.002 2...  \n",
       "2  POLYGON ((479954.648 2139111.853, 479965.226 2...  \n",
       "3  POLYGON ((480073.533 2139159.946, 480070.634 2...  \n",
       "4  POLYGON ((480115.557 2138815.362, 480111.072 2...  "
      ]
     },
     "execution_count": 8,
     "metadata": {},
     "output_type": "execute_result"
    }
   ],
   "source": [
    "codigos_postales_shp['geometry'] = codigos_postales_shp['geometry'].buffer(0)# Buffer de 0 metros para evitar errores en la intersección\n",
    "areas_verdes_shp['geometry'] = areas_verdes_shp['geometry'].buffer(0)# Buffer de 0 metros para evitar errores en la intersección\n",
    "intersection_shp = gpd.overlay(codigos_postales_shp, areas_verdes_shp, how='intersection')# Realizar la intersección entre códigos postales y áreas verdes\n",
    "\n",
    "\n",
    "intersection_shp.head()\n",
    "\n"
   ]
  },
  {
   "cell_type": "code",
   "execution_count": 9,
   "metadata": {},
   "outputs": [
    {
     "name": "stderr",
     "output_type": "stream",
     "text": [
      "C:\\Users\\lonje\\AppData\\Local\\Temp\\ipykernel_14056\\807421753.py:1: UserWarning: Column names longer than 10 characters will be truncated when saved to ESRI Shapefile.\n",
      "  intersection_shp.to_file('interseccion_sin_area/interseccion_areas_verdes_cp.shp')#Prueba, mandaremos este geofgataframe a un archivo shapefile para analizar en qgis\n",
      "c:\\Users\\lonje\\OneDrive\\Documentos\\GitHub\\qgis\\.venv\\Lib\\site-packages\\pyogrio\\raw.py:709: RuntimeWarning: Normalized/laundered field name: 'longitude_1' to 'longitude_'\n",
      "  ogr_write(\n",
      "c:\\Users\\lonje\\OneDrive\\Documentos\\GitHub\\qgis\\.venv\\Lib\\site-packages\\pyogrio\\raw.py:709: RuntimeWarning: Normalized/laundered field name: 'longitude_2' to 'longitud_1'\n",
      "  ogr_write(\n"
     ]
    }
   ],
   "source": [
    "intersection_shp.to_file('interseccion_sin_area/interseccion_areas_verdes_cp.shp')#Prueba, mandaremos este geofgataframe a un archivo shapefile para analizar en qgis "
   ]
  },
  {
   "cell_type": "markdown",
   "metadata": {},
   "source": []
  },
  {
   "cell_type": "code",
   "execution_count": 10,
   "metadata": {},
   "outputs": [
    {
     "name": "stderr",
     "output_type": "stream",
     "text": [
      "C:\\Users\\lonje\\AppData\\Local\\Temp\\ipykernel_14056\\31029653.py:3: UserWarning: Column names longer than 10 characters will be truncated when saved to ESRI Shapefile.\n",
      "  intersection_shp.to_file('interseccion_con_area/interseccion_areas_verdes_cp_area.shp')#Mandamos este archivo a un shapefile para analizar en qgis\n",
      "c:\\Users\\lonje\\OneDrive\\Documentos\\GitHub\\qgis\\.venv\\Lib\\site-packages\\pyogrio\\raw.py:709: RuntimeWarning: Normalized/laundered field name: 'longitude_1' to 'longitude_'\n",
      "  ogr_write(\n",
      "c:\\Users\\lonje\\OneDrive\\Documentos\\GitHub\\qgis\\.venv\\Lib\\site-packages\\pyogrio\\raw.py:709: RuntimeWarning: Normalized/laundered field name: 'longitude_2' to 'longitud_1'\n",
      "  ogr_write(\n",
      "c:\\Users\\lonje\\OneDrive\\Documentos\\GitHub\\qgis\\.venv\\Lib\\site-packages\\pyogrio\\raw.py:709: RuntimeWarning: Normalized/laundered field name: 'area_intersect' to 'area_inter'\n",
      "  ogr_write(\n"
     ]
    },
    {
     "name": "stdout",
     "output_type": "stream",
     "text": [
      "        d_cp  area_intersect\n",
      "0      01000     9567.102498\n",
      "1      01000      572.196781\n",
      "2      01000     2318.258885\n",
      "3      01000      599.184448\n",
      "4      01000      709.040947\n",
      "...      ...             ...\n",
      "13643  09638      136.757549\n",
      "13644  16810      558.442276\n",
      "13645  16810      962.369509\n",
      "13646  16520     6151.141085\n",
      "13647  16459     9500.848861\n",
      "\n",
      "[13648 rows x 2 columns]\n"
     ]
    }
   ],
   "source": [
    "intersection_shp = intersection_shp.to_crs(epsg=32614)# Asegurarse de que el GeoDataFrame de la intersección está en un CRS proyectado adecuado para cálculos de área\n",
    "intersection_shp['area_intersect'] = intersection_shp.geometry.area# Calcular el área de cada intersección (en metros cuadrados\n",
    "intersection_shp.to_file('interseccion_con_area/interseccion_areas_verdes_cp_area.shp')#Mandamos este archivo a un shapefile para analizar en qgis\n",
    "print(intersection_shp[['d_cp', 'area_intersect']])\n"
   ]
  },
  {
   "cell_type": "markdown",
   "metadata": {},
   "source": [
    "##### *Suma De Area intersect*\n",
    "Se agrupan las areas por codigos postales para sumar las areas y conseguir un total por folio\n",
    "Renombramos la columna a area_verde_total"
   ]
  },
  {
   "cell_type": "code",
   "execution_count": 11,
   "metadata": {},
   "outputs": [
    {
     "name": "stdout",
     "output_type": "stream",
     "text": [
      "    d_cp  area_verde_total\n",
      "0  01000      25135.042605\n",
      "1  01010      15466.766138\n",
      "2  01020      11622.189731\n",
      "3  01030      75731.562891\n",
      "4  01040       1610.849722\n"
     ]
    }
   ],
   "source": [
    "area_total_por_cp = intersection_shp.groupby('d_cp')['area_intersect'].sum().reset_index()# Sumar el área total de áreas verdes por cada código postal\n",
    "area_total_por_cp.rename(columns={'area_intersect': 'area_verde_total'}, inplace=True)# Renombrar la columna de suma para mayor claridad\n",
    "\n",
    "print(area_total_por_cp.head())\n"
   ]
  },
  {
   "cell_type": "code",
   "execution_count": 12,
   "metadata": {},
   "outputs": [
    {
     "name": "stdout",
     "output_type": "stream",
     "text": [
      "    d_cp  densidad_verde\n",
      "0  01000        0.025598\n",
      "1  01010        0.029375\n",
      "2  01020        0.016330\n",
      "3  01030        0.053356\n",
      "4  01049        0.036119\n"
     ]
    }
   ],
   "source": [
    "codigos_postales_shp = codigos_postales_shp.merge(area_total_por_cp, on='d_cp', how='left')# Unir el área verde total al GeoDataFrame original de códigos postales\n",
    "codigos_postales_shp['area_cp'] = codigos_postales_shp.geometry.area# Calcular el área total de cada código postal (en metros cuadrados)\n",
    "codigos_postales_shp['densidad_verde'] = codigos_postales_shp['area_verde_total'] / codigos_postales_shp['area_cp']# Calcular la densidad de áreas verdes (área verde total / área total del código postal)\n",
    "\n",
    "print(codigos_postales_shp[['d_cp', 'densidad_verde']].head())\n"
   ]
  },
  {
   "cell_type": "code",
   "execution_count": 13,
   "metadata": {},
   "outputs": [
    {
     "name": "stderr",
     "output_type": "stream",
     "text": [
      "C:\\Users\\lonje\\AppData\\Local\\Temp\\ipykernel_14056\\1003093703.py:1: UserWarning: Column names longer than 10 characters will be truncated when saved to ESRI Shapefile.\n",
      "  codigos_postales_shp.to_file('cp_cdmx_densidad_verde/codigos_postales_con_densidad_verde.shp')\n",
      "c:\\Users\\lonje\\OneDrive\\Documentos\\GitHub\\qgis\\.venv\\Lib\\site-packages\\pyogrio\\raw.py:709: RuntimeWarning: Normalized/laundered field name: 'area_verde_total' to 'area_verde'\n",
      "  ogr_write(\n",
      "c:\\Users\\lonje\\OneDrive\\Documentos\\GitHub\\qgis\\.venv\\Lib\\site-packages\\pyogrio\\raw.py:709: RuntimeWarning: Normalized/laundered field name: 'densidad_verde' to 'densidad_v'\n",
      "  ogr_write(\n"
     ]
    }
   ],
   "source": [
    "codigos_postales_shp.to_file('cp_cdmx_densidad_verde/codigos_postales_con_densidad_verde.shp')\n",
    "codigos_postales_shp.to_csv('result.csv', index=False)"
   ]
  },
  {
   "cell_type": "code",
   "execution_count": 14,
   "metadata": {},
   "outputs": [
    {
     "data": {
      "image/png": "[encoded data removed]",
      "text/plain": [
       "<Figure size 640x480 with 1 Axes>"
      ]
     },
     "metadata": {},
     "output_type": "display_data"
    }
   ],
   "source": [
    "#Histograma de densidad de áreas verde por código postal\n",
    "sns.histplot(codigos_postales_shp['densidad_verde'], bins=30, kde=True)\n",
    "plt.xlabel('Densidad de áreas verdes (m²/m²)')\n",
    "plt.ylabel('Número de códigos postales')\n",
    "plt.title('Distribución de densidad de áreas verdes por código postal en CDMX')\n",
    "plt.show()\n"
   ]
  }
 ],
 "metadata": {
  "kernelspec": {
   "display_name": ".venv",
   "language": "python",
   "name": "python3"
  },
  "language_info": {
   "codemirror_mode": {
    "name": "ipython",
    "version": 3
   },
   "file_extension": ".py",
   "mimetype": "text/x-python",
   "name": "python",
   "nbconvert_exporter": "python",
   "pygments_lexer": "ipython3",
   "version": "3.11.0"
  }
 },
 "nbformat": 4,
 "nbformat_minor": 2
}
