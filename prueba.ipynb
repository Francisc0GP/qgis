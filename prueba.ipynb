{
 "cells": [
  {
   "cell_type": "code",
   "execution_count": 25,
   "metadata": {},
   "outputs": [],
   "source": [
    "import geopandas as gpd\n",
    "from shapely import wkt"
   ]
  },
  {
   "cell_type": "code",
   "execution_count": 26,
   "metadata": {},
   "outputs": [
    {
     "name": "stderr",
     "output_type": "stream",
     "text": [
      "c:\\Users\\lonje\\OneDrive\\Documentos\\GitHub\\qgis\\.venv\\Lib\\site-packages\\pyogrio\\raw.py:196: RuntimeWarning: inventario_areas_verdes_1\\inventario_areas_verdes_1.shp contains polygon(s) with rings with invalid winding order. Autocorrecting them, but that shapefile should be corrected using ogr2ogr for example.\n",
      "  return ogr_read(\n"
     ]
    }
   ],
   "source": [
    "areas_verdes_shp = gpd.read_file('inventario_areas_verdes_1\\inventario_areas_verdes_1.shp')"
   ]
  },
  {
   "cell_type": "code",
   "execution_count": 27,
   "metadata": {},
   "outputs": [
    {
     "data": {
      "text/html": [
       "<div>\n",
       "<style scoped>\n",
       "    .dataframe tbody tr th:only-of-type {\n",
       "        vertical-align: middle;\n",
       "    }\n",
       "\n",
       "    .dataframe tbody tr th {\n",
       "        vertical-align: top;\n",
       "    }\n",
       "\n",
       "    .dataframe thead th {\n",
       "        text-align: right;\n",
       "    }\n",
       "</style>\n",
       "<table border=\"1\" class=\"dataframe\">\n",
       "  <thead>\n",
       "    <tr style=\"text-align: right;\">\n",
       "      <th></th>\n",
       "      <th>nombre</th>\n",
       "      <th>categoria_</th>\n",
       "      <th>subcat_sed</th>\n",
       "      <th>geometry</th>\n",
       "    </tr>\n",
       "  </thead>\n",
       "  <tbody>\n",
       "    <tr>\n",
       "      <th>0</th>\n",
       "      <td>0</td>\n",
       "      <td>Ãreas verdes complementarias o ligadas a la r...</td>\n",
       "      <td>Veg. ArbÃ³rea, arbustiva y herbÃ¡cea de glorietas</td>\n",
       "      <td>POLYGON ((486775.686 2132200.037, 486775.319 2...</td>\n",
       "    </tr>\n",
       "    <tr>\n",
       "      <th>1</th>\n",
       "      <td>0</td>\n",
       "      <td>Ãreas verdes urbanas fragmentadas</td>\n",
       "      <td>Terrenos baldÃ­os</td>\n",
       "      <td>POLYGON ((485986.153 2130716.415, 485997.265 2...</td>\n",
       "    </tr>\n",
       "    <tr>\n",
       "      <th>2</th>\n",
       "      <td>CAMELLON ANILLO PERIFERICO (Blvd. ADOLFO LOPEZ...</td>\n",
       "      <td>Ãreas verdes complementarias o ligadas a la r...</td>\n",
       "      <td>Veg. ArbÃ³rea, arbustiva y herbÃ¡cea de glorietas</td>\n",
       "      <td>POLYGON ((486890.803 2132129.64, 486889.143 21...</td>\n",
       "    </tr>\n",
       "    <tr>\n",
       "      <th>3</th>\n",
       "      <td>0</td>\n",
       "      <td>Equipamientos urbanos con vegetaciÃ³n</td>\n",
       "      <td>Instituciones acadÃ©micas pÃºblicas</td>\n",
       "      <td>POLYGON ((486023.561 2131882.086, 486012.485 2...</td>\n",
       "    </tr>\n",
       "    <tr>\n",
       "      <th>4</th>\n",
       "      <td>None</td>\n",
       "      <td>Ãreas verdes complementarias o ligadas a la r...</td>\n",
       "      <td>Camellones centrales y laterales</td>\n",
       "      <td>POLYGON ((486550.648 2131520.367, 486558.816 2...</td>\n",
       "    </tr>\n",
       "  </tbody>\n",
       "</table>\n",
       "</div>"
      ],
      "text/plain": [
       "                                              nombre  \\\n",
       "0                                                  0   \n",
       "1                                                  0   \n",
       "2  CAMELLON ANILLO PERIFERICO (Blvd. ADOLFO LOPEZ...   \n",
       "3                                                  0   \n",
       "4                                               None   \n",
       "\n",
       "                                          categoria_  \\\n",
       "0  Ãreas verdes complementarias o ligadas a la r...   \n",
       "1                 Ãreas verdes urbanas fragmentadas   \n",
       "2  Ãreas verdes complementarias o ligadas a la r...   \n",
       "3              Equipamientos urbanos con vegetaciÃ³n   \n",
       "4  Ãreas verdes complementarias o ligadas a la r...   \n",
       "\n",
       "                                          subcat_sed  \\\n",
       "0  Veg. ArbÃ³rea, arbustiva y herbÃ¡cea de glorietas   \n",
       "1                                  Terrenos baldÃ­os   \n",
       "2  Veg. ArbÃ³rea, arbustiva y herbÃ¡cea de glorietas   \n",
       "3                Instituciones acadÃ©micas pÃºblicas   \n",
       "4                   Camellones centrales y laterales   \n",
       "\n",
       "                                            geometry  \n",
       "0  POLYGON ((486775.686 2132200.037, 486775.319 2...  \n",
       "1  POLYGON ((485986.153 2130716.415, 485997.265 2...  \n",
       "2  POLYGON ((486890.803 2132129.64, 486889.143 21...  \n",
       "3  POLYGON ((486023.561 2131882.086, 486012.485 2...  \n",
       "4  POLYGON ((486550.648 2131520.367, 486558.816 2...  "
      ]
     },
     "execution_count": 27,
     "metadata": {},
     "output_type": "execute_result"
    }
   ],
   "source": [
    "areas_verdes_shp.head()"
   ]
  },
  {
   "cell_type": "code",
   "execution_count": 28,
   "metadata": {},
   "outputs": [],
   "source": [
    "#Se generan los centros de los polígonos\n",
    "areas_verdes_shp['centroid'] = areas_verdes_shp.geometry.centroid"
   ]
  },
  {
   "cell_type": "code",
   "execution_count": 29,
   "metadata": {},
   "outputs": [],
   "source": [
    "#Se obtienen las coordenadas de los centros de los polígonos\n",
    "areas_verdes_shp['latitude'] = areas_verdes_shp.centroid.y\n",
    "areas_verdes_shp['longitude'] = areas_verdes_shp.centroid.x"
   ]
  },
  {
   "cell_type": "code",
   "execution_count": 35,
   "metadata": {},
   "outputs": [],
   "source": [
    "#Dropeamos la columna centroid porque al exportar el archivo tenemos problemas porque solo soporta un tipo de geometría\n",
    "areas_verdes_shp.drop(columns=['centroid'], inplace=True)"
   ]
  },
  {
   "cell_type": "code",
   "execution_count": 36,
   "metadata": {},
   "outputs": [],
   "source": [
    "#Exportamos el archivo \n",
    "areas_verdes_shp.to_file('Nuevo_inventario_Areas_Verdes/areas_verdes_con_coordenadas.shp')\n"
   ]
  }
 ],
 "metadata": {
  "kernelspec": {
   "display_name": ".venv",
   "language": "python",
   "name": "python3"
  },
  "language_info": {
   "codemirror_mode": {
    "name": "ipython",
    "version": 3
   },
   "file_extension": ".py",
   "mimetype": "text/x-python",
   "name": "python",
   "nbconvert_exporter": "python",
   "pygments_lexer": "ipython3",
   "version": "3.11.0"
  }
 },
 "nbformat": 4,
 "nbformat_minor": 2
}
